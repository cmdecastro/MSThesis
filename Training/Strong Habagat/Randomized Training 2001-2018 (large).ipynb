{
 "cells": [
  {
   "cell_type": "code",
   "execution_count": 1,
   "metadata": {},
   "outputs": [],
   "source": [
    "import os\n",
    "os.environ[\"PROJ_LIB\"] = r'C:\\Users\\Mic Mic\\anaconda3\\pkgs\\basemap-1.3.0-py38ha7665c8_0\\Library\\share\\basemap' #fixr\n",
    "\n",
    "from mpl_toolkits.basemap import Basemap, maskoceans\n",
    "import numpy as np\n",
    "import matplotlib.pyplot as plt\n",
    "from matplotlib.patches import Rectangle\n",
    "import pandas as pd\n",
    "import netCDF4 as nc\n",
    "import scipy.io as sp\n",
    "import numpy.random as rnd"
   ]
  },
  {
   "cell_type": "markdown",
   "metadata": {},
   "source": [
    "### Get latitudes and longitudes of set domain"
   ]
  },
  {
   "cell_type": "code",
   "execution_count": 2,
   "metadata": {},
   "outputs": [],
   "source": [
    "slp_latitude = np.arange(0,36,1.25)\n",
    "slp_longitude = np.arange(100,141,1.25)"
   ]
  },
  {
   "cell_type": "markdown",
   "metadata": {},
   "source": [
    "## Read csv file containing SLP of strong Habagat days"
   ]
  },
  {
   "cell_type": "code",
   "execution_count": 3,
   "metadata": {},
   "outputs": [],
   "source": [
    "strong_habagat_slp = pd.read_csv('strong_habagat_slp.csv',header=None).values"
   ]
  },
  {
   "cell_type": "markdown",
   "metadata": {},
   "source": [
    "## Get random indices for training (90% of total)"
   ]
  },
  {
   "cell_type": "code",
   "execution_count": 4,
   "metadata": {},
   "outputs": [],
   "source": [
    "training_count = np.round(0.9*strong_habagat_slp.shape[1])\n",
    "test_count = strong_habagat_slp.shape[1]-training_count\n",
    "\n",
    "rng = rnd.default_rng(seed=0)\n",
    "training_index = rng.choice(int(strong_habagat_slp.shape[1]), size=int(training_count), replace=False)"
   ]
  },
  {
   "cell_type": "code",
   "execution_count": 5,
   "metadata": {},
   "outputs": [],
   "source": [
    "total_points = np.arange(strong_habagat_slp.shape[1])\n",
    "test_index = np.array([i for i in total_points if i not in training_index])"
   ]
  },
  {
   "cell_type": "code",
   "execution_count": 6,
   "metadata": {},
   "outputs": [],
   "source": [
    "np.save('../Training/Large Domain/test_index.npy',test_index)\n",
    "np.save('../Training/Large Domain/training_index.npy',training_index)"
   ]
  },
  {
   "cell_type": "markdown",
   "metadata": {},
   "source": [
    "### Get randomized training and test SLP"
   ]
  },
  {
   "cell_type": "code",
   "execution_count": 7,
   "metadata": {},
   "outputs": [],
   "source": [
    "training_SLP = strong_habagat_slp[:,training_index]/strong_habagat_slp[:,training_index].max(axis=0)\n",
    "test_SLP = strong_habagat_slp[:,test_index]/strong_habagat_slp[:,test_index].max(axis=0)"
   ]
  },
  {
   "cell_type": "markdown",
   "metadata": {},
   "source": [
    "### Save randomized training and test set to CSV"
   ]
  },
  {
   "cell_type": "code",
   "execution_count": 8,
   "metadata": {},
   "outputs": [],
   "source": [
    "np.savetxt('../Training/Large Domain/training_SLP.csv',training_SLP,delimiter=',')\n",
    "np.savetxt('../Training/Large Domain/test_SLP.csv',test_SLP,delimiter=',')"
   ]
  },
  {
   "cell_type": "markdown",
   "metadata": {},
   "source": [
    "## Read archetypes and weights"
   ]
  },
  {
   "cell_type": "code",
   "execution_count": 9,
   "metadata": {},
   "outputs": [],
   "source": [
    "MVSA_daily_slp = pd.read_csv('../Training/Large Domain/slp_training_MVSA.csv',header=None)\n",
    "daily_slp_weights = pd.read_csv('../Training/Large Domain/slp_training_weights.csv',header=None).values"
   ]
  },
  {
   "cell_type": "markdown",
   "metadata": {},
   "source": [
    "## Find days with threshold SLP weights"
   ]
  },
  {
   "cell_type": "code",
   "execution_count": 10,
   "metadata": {},
   "outputs": [],
   "source": [
    "slp_archetypes, slp_days = np.where(daily_slp_weights>0.35)"
   ]
  },
  {
   "cell_type": "code",
   "execution_count": 11,
   "metadata": {},
   "outputs": [],
   "source": [
    "training_days = np.load('../training_days.npy')\n",
    "slp_arch_index = training_index[slp_days]\n",
    "slp_archetype_dates = np.array(training_days)[np.unique(slp_arch_index)]"
   ]
  },
  {
   "cell_type": "code",
   "execution_count": 12,
   "metadata": {},
   "outputs": [],
   "source": [
    "np.savetxt('../Training/Large Domain/slp_match_days.txt',np.array(slp_archetype_dates).astype(int))"
   ]
  },
  {
   "cell_type": "code",
   "execution_count": 13,
   "metadata": {},
   "outputs": [],
   "source": [
    "#get years with archetype dates\n",
    "years = []\n",
    "for date in slp_archetype_dates:\n",
    "    years.append(date[:4])"
   ]
  },
  {
   "cell_type": "markdown",
   "metadata": {},
   "source": [
    "## Filter RH of days that match SLP patterns"
   ]
  },
  {
   "cell_type": "code",
   "execution_count": 14,
   "metadata": {},
   "outputs": [],
   "source": [
    "strong_habagat_rh = pd.read_csv('../strong_habagat_rh.csv',header=None).values\n",
    "\n",
    "normal_rh = strong_habagat_rh/strong_habagat_rh.max(axis=1)[:,None]\n",
    "\n",
    "#get training values\n",
    "training_rh = normal_rh[:,training_index]\n",
    "#get test values\n",
    "test_rh = normal_rh[:,test_index]\n",
    "\n",
    "#get RH of days with matching SLP\n",
    "matched_rh = training_rh[:,np.unique(slp_days)].T"
   ]
  },
  {
   "cell_type": "code",
   "execution_count": 15,
   "metadata": {},
   "outputs": [],
   "source": [
    "#save matching RH to csv\n",
    "np.savetxt('../Training/Large Domain/training_RH.csv',matched_rh,delimiter=',')\n",
    "\n",
    "#save test RH to csv\n",
    "np.savetxt('../Training/Large Domain/test_RH.csv',test_rh.T,delimiter=',')"
   ]
  },
  {
   "cell_type": "markdown",
   "metadata": {},
   "source": [
    "## Get days with analogous RH using threshold"
   ]
  },
  {
   "cell_type": "code",
   "execution_count": 16,
   "metadata": {},
   "outputs": [],
   "source": [
    "#read csv files of archetypes and weights\n",
    "MVSA_daily_rh = pd.read_csv('../Training/Large Domain/rh_training_MVSA.csv',header=None)\n",
    "daily_rh_weights = pd.read_csv('../Training/Large Domain/rh_training_weights.csv',header=None).values\n",
    "\n",
    "#get RHs with dominant archetypes\n",
    "rh_archetypes, rh_days = np.where(daily_rh_weights>0.35)\n",
    "rh_archetype_dates = np.array(slp_archetype_dates)[rh_days]\n",
    "\n",
    "#get years with archetype dates\n",
    "years = []\n",
    "for date in rh_archetype_dates:\n",
    "    years.append(date[:4])"
   ]
  },
  {
   "cell_type": "code",
   "execution_count": 17,
   "metadata": {},
   "outputs": [],
   "source": [
    "total_mean_rain = np.zeros((191,160,daily_rh_weights.shape[0]))\n",
    "\n",
    "for j in range(daily_rh_weights.shape[0]):\n",
    "    index = np.where(rh_archetypes == j)[0]\n",
    "\n",
    "    year = np.array(years)[index]\n",
    "    dates = rh_archetype_dates[index]\n",
    "    days_index = rh_days[index]\n",
    "\n",
    "    total_rain_matrix = np.zeros((len(dates),160,191))\n",
    "\n",
    "    for k in range(len(dates)):\n",
    "        try:\n",
    "            daily_rain = nc.Dataset('../../Daily Rain/gpm'+year[k]+'/3B-DAY.MS.MRG.3IMERG.'\\\n",
    "                                +dates[k]+'-S000000-E235959.V06.nc4.nc4')\n",
    "        except FileNotFoundError:\n",
    "            continue\n",
    "\n",
    "        rain_data = np.ma.getdata(daily_rain['precipitationCal'][0,:,:])\n",
    "\n",
    "        total_rain_matrix[k] = rain_data\n",
    "\n",
    "    #get median total rain\n",
    "    mean_rain = np.median(total_rain_matrix,axis=0)\n",
    "\n",
    "    total_mean_rain[:,:,j] = mean_rain.T\n",
    "\n",
    "np.save('../Training/Large Domain/rh_training_rain.npy',total_mean_rain)"
   ]
  },
  {
   "cell_type": "markdown",
   "metadata": {},
   "source": [
    "## Calculate scaling between actual and composite"
   ]
  },
  {
   "cell_type": "code",
   "execution_count": 18,
   "metadata": {},
   "outputs": [],
   "source": [
    "composite_rain_map = np.zeros((total_mean_rain.shape[0],total_mean_rain.shape[1],daily_rh_weights.shape[1]))\n",
    "actual_rain_map = np.copy(composite_rain_map)\n",
    "\n",
    "for a in range(daily_rh_weights.shape[1]):\n",
    "    composite_rain_map[:,:,a] = np.sum(daily_rh_weights[:,a]*total_mean_rain,axis=2)\n",
    "    \n",
    "    date = slp_archetype_dates[a]\n",
    "    year = date[:4]\n",
    "    \n",
    "    try:\n",
    "        daily_rain = nc.Dataset('../../Daily Rain/gpm'+year+'/3B-DAY.MS.MRG.3IMERG.'\\\n",
    "                            +date+'-S000000-E235959.V06.nc4.nc4')\n",
    "    except FileNotFoundError:\n",
    "        continue\n",
    "    \n",
    "    actual_rain_map[:,:,a] = (np.ma.getdata(daily_rain['precipitationCal'][0,:,:])).T"
   ]
  },
  {
   "cell_type": "code",
   "execution_count": 19,
   "metadata": {},
   "outputs": [],
   "source": [
    "scale = np.mean(actual_rain_map[91:142,60:80],axis=(0,1))/np.mean(composite_rain_map[91:142,60:80],axis=(0,1))\n",
    "scale = scale[scale!=0]"
   ]
  },
  {
   "cell_type": "code",
   "execution_count": 20,
   "metadata": {},
   "outputs": [
    {
     "data": {
      "text/plain": [
       "array([5.87387067, 1.022992  , 0.36694279, 1.96319333, 0.4539395 ,\n",
       "       0.32712744, 2.00836505, 0.94795491, 2.45951162, 2.03570097,\n",
       "       0.09077877, 0.05947061, 2.88683679, 0.71489782, 0.60259235,\n",
       "       2.17862761, 0.09444034, 2.01281856, 0.63492473, 1.8484623 ,\n",
       "       0.44457155, 3.38769377, 0.06380337, 0.02082123, 1.19426318,\n",
       "       0.98144792, 0.40258278, 1.16305687, 0.24442686, 1.        ,\n",
       "       0.07483749, 0.21817607, 0.94093152, 1.8688684 ])"
      ]
     },
     "execution_count": 20,
     "metadata": {},
     "output_type": "execute_result"
    }
   ],
   "source": [
    "scale"
   ]
  },
  {
   "cell_type": "markdown",
   "metadata": {},
   "source": [
    "## Get data on observed rainfall from PAGASA stations"
   ]
  },
  {
   "cell_type": "code",
   "execution_count": 21,
   "metadata": {},
   "outputs": [],
   "source": [
    "station_id = pd.read_csv('../sta_id.csv',header=None)\n",
    "station_lon = station_id[1].values\n",
    "station_lat = station_id[2].values"
   ]
  },
  {
   "cell_type": "code",
   "execution_count": 22,
   "metadata": {},
   "outputs": [],
   "source": [
    "#consider only weather stations in Luzon\n",
    "#find stations at >10.75 degrees N\n",
    "lat_ind = station_lat > 10.75 #12.5\n",
    "station_lat = station_lat[lat_ind]\n",
    "station_lon = station_lon[lat_ind]\n",
    "\n",
    "#find stations at <121.9 degrees E\n",
    "lon_ind = station_lon < 121.9 #124.5 \n",
    "station_lon = station_lon[lon_ind]\n",
    "station_lat = station_lat[lon_ind]"
   ]
  },
  {
   "cell_type": "code",
   "execution_count": 23,
   "metadata": {},
   "outputs": [],
   "source": [
    "#get station information of east PH stations\n",
    "luzon_df = station_id[(station_id[1].isin(station_lon)) & (station_id[2].isin(station_lat))]\n",
    "\n",
    "#get indices of east PH stations\n",
    "luzon_ind = luzon_df.index"
   ]
  },
  {
   "cell_type": "code",
   "execution_count": 24,
   "metadata": {},
   "outputs": [],
   "source": [
    "#get rainfall latitudes\n",
    "rain_latitude = np.ma.getdata(daily_rain['lat'])\n",
    "\n",
    "#get rainfall longitudes\n",
    "rain_longitude = np.ma.getdata(daily_rain['lon'])"
   ]
  },
  {
   "cell_type": "markdown",
   "metadata": {},
   "source": [
    "### Find (nearest) index of stations in rainfall grid"
   ]
  },
  {
   "cell_type": "code",
   "execution_count": 25,
   "metadata": {},
   "outputs": [],
   "source": [
    "lon_ind = []\n",
    "lat_ind = []\n",
    "\n",
    "#find nearest corresponding index of stations in rain grid\n",
    "for i in range(len(station_lon)):\n",
    "    lon_index = np.abs(rain_longitude-station_lon[i]).argmin()\n",
    "    lat_index = np.abs(rain_latitude-station_lat[i]).argmin()\n",
    "    \n",
    "    lon_ind.append(lon_index)\n",
    "    lat_ind.append(lat_index)    "
   ]
  },
  {
   "cell_type": "code",
   "execution_count": 26,
   "metadata": {},
   "outputs": [],
   "source": [
    "#save longitude indices in array\n",
    "np.save('station_lon_index.npy',lon_ind)\n",
    "\n",
    "#save latitude indices in array\n",
    "np.save('station_lat_index.npy',lat_ind)\n",
    "\n",
    "#save Luzon indices in arrray\n",
    "np.save('luzon_index.npy',luzon_ind)"
   ]
  },
  {
   "cell_type": "markdown",
   "metadata": {},
   "source": [
    "### Load observed rainfall per station "
   ]
  },
  {
   "cell_type": "code",
   "execution_count": 27,
   "metadata": {},
   "outputs": [],
   "source": [
    "luzon_ind = np.load('luzon_index.npy')\n",
    "obs_rain = pd.read_csv('../obs_strong_habagat.csv',header=None).values[:,luzon_ind]\n",
    "\n",
    "test_obs_rain = obs_rain[test_index]\n",
    "train_obs_rain = obs_rain[np.unique(slp_days)]"
   ]
  },
  {
   "cell_type": "markdown",
   "metadata": {},
   "source": [
    "### Load indices of longitude and latitude of PAGASA stations in rain grid"
   ]
  },
  {
   "cell_type": "code",
   "execution_count": 28,
   "metadata": {},
   "outputs": [],
   "source": [
    "station_lon = np.load('station_lon_index.npy')\n",
    "station_lat = np.load('station_lat_index.npy')"
   ]
  },
  {
   "cell_type": "markdown",
   "metadata": {},
   "source": [
    "## Compare forecast and actual rainfall, and calculate contingency table"
   ]
  },
  {
   "cell_type": "code",
   "execution_count": 29,
   "metadata": {},
   "outputs": [],
   "source": [
    "#heavy rain threshold\n",
    "threshold_rain = [0.5,30]\n",
    "\n",
    "#neighbour size of forecast\n",
    "N = [1,2]\n",
    "\n",
    "#create array containing contingency table per day for different threshold and neighbour size\n",
    "cont_table = np.zeros((train_obs_rain.shape[0],5,len(threshold_rain),len(N)))\n",
    "\n",
    "\n",
    "for t in range(len(threshold_rain)):\n",
    "    for n in range(len(N)):\n",
    "        for a in range(train_obs_rain.shape[0]):\n",
    "            #get composite rain\n",
    "            composite_rain = 1.1937920348338775*composite_rain_map[:,:,a] \n",
    "            \n",
    "            for b in range(train_obs_rain.shape[1]):\n",
    "                lat_index = station_lat[b]\n",
    "                lon_index = station_lon[b]\n",
    "\n",
    "                #get actual station rain\n",
    "                actual_station_rain = train_obs_rain[a][b]\n",
    "\n",
    "                #check if observed rain is missing\n",
    "                if np.isnan(actual_station_rain):\n",
    "                    cont_table[a,4,t] += 1\n",
    "\n",
    "                else:\n",
    "                    #get composite station rain within grid\n",
    "                    composite_station_rain = composite_rain[lat_index-N[n]:lat_index+(N[n]+1), \\\n",
    "                                                            lon_index-N[n]:lon_index+(N[n]+1)]\n",
    "\n",
    "                    #compare actual rain to grid of forecast\n",
    "                    diff = np.abs(actual_station_rain-composite_station_rain).argmin()\n",
    "                    forecast_station_rain = composite_station_rain.flatten()[diff]\n",
    "\n",
    "                    #count hits per day\n",
    "                    if actual_station_rain >= threshold_rain[t] and forecast_station_rain >= threshold_rain[t]:\n",
    "                        cont_table[a,0,t,n] += 1\n",
    "\n",
    "                    #count false alarms per day\n",
    "                    elif actual_station_rain < threshold_rain[t] and forecast_station_rain >= threshold_rain[t]:\n",
    "                        cont_table[a,1,t,n] += 1\n",
    "\n",
    "                    #count misses per day\n",
    "                    elif actual_station_rain >= threshold_rain[t] and forecast_station_rain < threshold_rain[t]:\n",
    "                        cont_table[a,2,t,n] += 1\n",
    "\n",
    "                    #count correct negatives per day\n",
    "                    else:\n",
    "                        cont_table[a,3,t,n] += 1"
   ]
  },
  {
   "cell_type": "markdown",
   "metadata": {},
   "source": [
    "## Calculate contingency scores"
   ]
  },
  {
   "cell_type": "code",
   "execution_count": 30,
   "metadata": {},
   "outputs": [
    {
     "name": "stderr",
     "output_type": "stream",
     "text": [
      "<ipython-input-30-380e9cbdd595>:16: RuntimeWarning: invalid value encountered in true_divide\n",
      "  far = cont_table[:,1,:,:]/(cont_table[:,0,:,:]+cont_table[:,1,:,:])\n"
     ]
    }
   ],
   "source": [
    "# 0 = hits\n",
    "# 1 = false alarms\n",
    "# 2 = misses\n",
    "# 3 = correct negatives\n",
    "\n",
    "#calculate threat score\n",
    "ts = cont_table[:,0,:,:]/(cont_table[:,0,:,:]+cont_table[:,1,:,:]+cont_table[:,2,:,:])\n",
    "\n",
    "#calculate bias\n",
    "bias = (cont_table[:,0,:,:]+cont_table[:,1,:,:])/(cont_table[:,0,:,:]+cont_table[:,2,:,:])\n",
    "\n",
    "#calculate probability of detection\n",
    "pod = cont_table[:,0,:,:]/(cont_table[:,0,:,:]+cont_table[:,2,:,:])\n",
    "\n",
    "#calculate false alarm ratio\n",
    "far = cont_table[:,1,:,:]/(cont_table[:,0,:,:]+cont_table[:,1,:,:])"
   ]
  },
  {
   "cell_type": "code",
   "execution_count": 39,
   "metadata": {},
   "outputs": [
    {
     "data": {
      "text/plain": [
       "masked_array(\n",
       "  data=[[0.21234847, 0.2080912 ],\n",
       "        [0.40243719, 0.34329323]],\n",
       "  mask=False,\n",
       "  fill_value=1e+20)"
      ]
     },
     "execution_count": 39,
     "metadata": {},
     "output_type": "execute_result"
    }
   ],
   "source": [
    "np.nanmean(np.ma.masked_invalid(far),axis=0)"
   ]
  },
  {
   "cell_type": "code",
   "execution_count": 43,
   "metadata": {},
   "outputs": [
    {
     "data": {
      "text/plain": [
       "(array([4], dtype=int64),)"
      ]
     },
     "execution_count": 43,
     "metadata": {},
     "output_type": "execute_result"
    }
   ],
   "source": [
    "np.where(slp_archetype_dates=='20040826')"
   ]
  },
  {
   "cell_type": "code",
   "execution_count": 31,
   "metadata": {
    "scrolled": false
   },
   "outputs": [
    {
     "data": {
      "image/png": "[encoded data removed]",
      "text/plain": [
       "<Figure size 576x432 with 1 Axes>"
      ]
     },
     "metadata": {},
     "output_type": "display_data"
    }
   ],
   "source": [
    "#get latitudes\n",
    "rain_latitude = np.ma.getdata(daily_rain['lat'])\n",
    "#get longitudes\n",
    "rain_longitude = np.ma.getdata(daily_rain['lon'])\n",
    "\n",
    "lon, lat = np.meshgrid(rain_longitude,rain_latitude)\n",
    "\n",
    "for j in [4]:#range(composite_rain_map.shape[2]):\n",
    "    #get masked actual rain\n",
    "    actual_rain = actual_rain_map[:,:,j] \n",
    "    masked_actual = maskoceans(lon,lat,actual_rain,resolution='i')\n",
    "    masked_actual.mask[:41,:52] = True\n",
    "\n",
    "    #get masked composite rain\n",
    "    composite_rain = 1.336178630869092*composite_rain_map[:,:,j] \n",
    "    masked_composite = maskoceans(lon,lat,composite_rain,resolution='i')\n",
    "    masked_composite.mask[:41,:52] = True\n",
    "\n",
    "    fig = plt.figure(figsize=(8, 6))\n",
    "\n",
    "    #draw basemap\n",
    "    m = Basemap(projection='cyl',llcrnrlon=114.05,urcrnrlon=129.95,llcrnrlat=2.95,urcrnrlat=21.95,resolution='i')\n",
    "    m.drawcoastlines(linewidth=1)\n",
    "    m.drawmapboundary(fill_color='aliceblue')\n",
    "\n",
    "    composite_rain_imshow = m.imshow(masked_composite,cmap='Paired',zorder=1,\\\n",
    "                                     vmin=np.min(masked_actual),vmax=np.max(masked_actual))\n",
    "#     plt.title('Rainfall Forecast: '+slp_archetype_dates[j],fontsize=16)\n",
    "\n",
    "    #draw latitudes and longitudes\n",
    "    parallels = np.arange(5,21,5)\n",
    "    m.drawparallels(parallels,labels=[True,False,True,False])\n",
    "    meridians = np.arange(115,141,5)\n",
    "    m.drawmeridians(meridians,labels=[True,False,False,True])\n",
    "\n",
    "#     m.colorbar(composite_rain_imshow,'right',shrink=0.5)\n",
    "    \n",
    "#     #display contingency scores at 50mm threshold, N=1\n",
    "#     plt.text(133,22,'HRT = '+str(threshold_rain[0])+' mm, N = '+str(N[0]*2 + 1),fontsize=11)\n",
    "#     plt.text(134.5,21,'TS = '+str(np.round(ts[j,0,0],3)),fontsize=10)\n",
    "#     plt.text(134.5,20,'BIAS = '+str(np.round(bias[j,0,0],3)),fontsize=10)\n",
    "#     plt.text(134.5,19,'POD = '+str(np.round(pod[j,0,0],3)),fontsize=10)\n",
    "#     plt.text(134.5,18,'FAR = '+str(np.round(far[j,0,0],3)),fontsize=10)\n",
    "\n",
    "#     #display contingency scores at 75mm threshold, N=1\n",
    "#     plt.text(133,17,'HRT = '+str(threshold_rain[1])+' mm, N = '+str(N[0]*2 + 1),fontsize=11)\n",
    "#     plt.text(134.5,16,'TS = '+str(np.round(ts[j,1,0],3)),fontsize=10)\n",
    "#     plt.text(134.5,15,'BIAS = '+str(np.round(bias[j,1,0],3)),fontsize=10)\n",
    "#     plt.text(134.5,14,'POD = '+str(np.round(pod[j,1,0],3)),fontsize=10)\n",
    "#     plt.text(134.5,13,'FAR = '+str(np.round(far[j,1,0],3)),fontsize=10)\n",
    "\n",
    "#     #display contingency scores at 50mm threshold, N=2\n",
    "#     plt.text(133,12,'HRT = '+str(threshold_rain[0])+' mm, N = '+str(N[1]*2 + 1),fontsize=11)\n",
    "#     plt.text(134.5,11,'TS = '+str(np.round(ts[j,1,1],3)),fontsize=10)\n",
    "#     plt.text(134.5,10,'BIAS = '+str(np.round(bias[j,1,1],3)),fontsize=10)\n",
    "#     plt.text(134.5,9,'POD = '+str(np.round(pod[j,1,1],3)),fontsize=10)\n",
    "#     plt.text(134.5,8,'FAR = '+str(np.round(far[j,1,1],3)),fontsize=10)\n",
    "\n",
    "#     #display contingency scores at 75mm threshold, N=2\n",
    "#     plt.text(133,7,'HRT = '+str(threshold_rain[1])+' mm, N = '+str(N[1]*2 + 1),fontsize=11)\n",
    "#     plt.text(134.5,6,'TS = '+str(np.round(ts[j,1,1],3)),fontsize=10)\n",
    "#     plt.text(134.5,5,'BIAS = '+str(np.round(bias[j,1,1],3)),fontsize=10)\n",
    "#     plt.text(134.5,4,'POD = '+str(np.round(pod[j,1,1],3)),fontsize=10)\n",
    "#     plt.text(134.5,3,'FAR = '+str(np.round(far[j,1,1],3)),fontsize=10)\n",
    "\n",
    "#     plt.savefig('../../../MS Thesis/Thesis Manuscript v4/figures/RnD/Strong Habagat/large_rain_'+str(slp_archetype_dates[j])\\\n",
    "#                 +'.png',dpi=300,bbox_inches='tight')\n",
    "    plt.show()"
   ]
  },
  {
   "cell_type": "code",
   "execution_count": null,
   "metadata": {},
   "outputs": [],
   "source": []
  }
 ],
 "metadata": {
  "kernelspec": {
   "display_name": "Python 3",
   "language": "python",
   "name": "python3"
  },
  "language_info": {
   "codemirror_mode": {
    "name": "ipython",
    "version": 3
   },
   "file_extension": ".py",
   "mimetype": "text/x-python",
   "name": "python",
   "nbconvert_exporter": "python",
   "pygments_lexer": "ipython3",
   "version": "3.8.5"
  }
 },
 "nbformat": 4,
 "nbformat_minor": 4
}
